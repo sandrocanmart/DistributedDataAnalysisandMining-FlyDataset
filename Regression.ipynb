{
  "cells": [
    {
      "cell_type": "code",
      "execution_count": null,
      "metadata": {
        "colab": {
          "base_uri": "https://localhost:8080/"
        },
        "id": "70fa7f94",
        "outputId": "73657f66-bbee-4947-8d34-828fd8154ef3"
      },
      "outputs": [
        {
          "output_type": "stream",
          "name": "stdout",
          "text": [
            "Requirement already satisfied: pyspark in /usr/local/lib/python3.10/dist-packages (3.5.0)\n",
            "Requirement already satisfied: py4j==0.10.9.7 in /usr/local/lib/python3.10/dist-packages (from pyspark) (0.10.9.7)\n"
          ]
        }
      ],
      "source": [
        "!pip install pyspark"
      ],
      "id": "70fa7f94"
    },
    {
      "cell_type": "code",
      "source": [
        "!pip install dtreeviz"
      ],
      "metadata": {
        "colab": {
          "base_uri": "https://localhost:8080/"
        },
        "id": "55mreWGFmld9",
        "outputId": "7bcd8e25-11fe-4bec-ae5b-95df9d72a4fb"
      },
      "id": "55mreWGFmld9",
      "execution_count": null,
      "outputs": [
        {
          "output_type": "stream",
          "name": "stdout",
          "text": [
            "Requirement already satisfied: dtreeviz in /usr/local/lib/python3.10/dist-packages (2.2.2)\n",
            "Requirement already satisfied: graphviz>=0.9 in /usr/local/lib/python3.10/dist-packages (from dtreeviz) (0.20.1)\n",
            "Requirement already satisfied: pandas in /usr/local/lib/python3.10/dist-packages (from dtreeviz) (1.5.3)\n",
            "Requirement already satisfied: numpy in /usr/local/lib/python3.10/dist-packages (from dtreeviz) (1.23.5)\n",
            "Requirement already satisfied: scikit-learn in /usr/local/lib/python3.10/dist-packages (from dtreeviz) (1.2.2)\n",
            "Requirement already satisfied: matplotlib in /usr/local/lib/python3.10/dist-packages (from dtreeviz) (3.7.1)\n",
            "Requirement already satisfied: colour in /usr/local/lib/python3.10/dist-packages (from dtreeviz) (0.1.5)\n",
            "Requirement already satisfied: pytest in /usr/local/lib/python3.10/dist-packages (from dtreeviz) (7.4.3)\n",
            "Requirement already satisfied: contourpy>=1.0.1 in /usr/local/lib/python3.10/dist-packages (from matplotlib->dtreeviz) (1.2.0)\n",
            "Requirement already satisfied: cycler>=0.10 in /usr/local/lib/python3.10/dist-packages (from matplotlib->dtreeviz) (0.12.1)\n",
            "Requirement already satisfied: fonttools>=4.22.0 in /usr/local/lib/python3.10/dist-packages (from matplotlib->dtreeviz) (4.46.0)\n",
            "Requirement already satisfied: kiwisolver>=1.0.1 in /usr/local/lib/python3.10/dist-packages (from matplotlib->dtreeviz) (1.4.5)\n",
            "Requirement already satisfied: packaging>=20.0 in /usr/local/lib/python3.10/dist-packages (from matplotlib->dtreeviz) (23.2)\n",
            "Requirement already satisfied: pillow>=6.2.0 in /usr/local/lib/python3.10/dist-packages (from matplotlib->dtreeviz) (9.4.0)\n",
            "Requirement already satisfied: pyparsing>=2.3.1 in /usr/local/lib/python3.10/dist-packages (from matplotlib->dtreeviz) (3.1.1)\n",
            "Requirement already satisfied: python-dateutil>=2.7 in /usr/local/lib/python3.10/dist-packages (from matplotlib->dtreeviz) (2.8.2)\n",
            "Requirement already satisfied: pytz>=2020.1 in /usr/local/lib/python3.10/dist-packages (from pandas->dtreeviz) (2023.3.post1)\n",
            "Requirement already satisfied: iniconfig in /usr/local/lib/python3.10/dist-packages (from pytest->dtreeviz) (2.0.0)\n",
            "Requirement already satisfied: pluggy<2.0,>=0.12 in /usr/local/lib/python3.10/dist-packages (from pytest->dtreeviz) (1.3.0)\n",
            "Requirement already satisfied: exceptiongroup>=1.0.0rc8 in /usr/local/lib/python3.10/dist-packages (from pytest->dtreeviz) (1.2.0)\n",
            "Requirement already satisfied: tomli>=1.0.0 in /usr/local/lib/python3.10/dist-packages (from pytest->dtreeviz) (2.0.1)\n",
            "Requirement already satisfied: scipy>=1.3.2 in /usr/local/lib/python3.10/dist-packages (from scikit-learn->dtreeviz) (1.11.4)\n",
            "Requirement already satisfied: joblib>=1.1.1 in /usr/local/lib/python3.10/dist-packages (from scikit-learn->dtreeviz) (1.3.2)\n",
            "Requirement already satisfied: threadpoolctl>=2.0.0 in /usr/local/lib/python3.10/dist-packages (from scikit-learn->dtreeviz) (3.2.0)\n",
            "Requirement already satisfied: six>=1.5 in /usr/local/lib/python3.10/dist-packages (from python-dateutil>=2.7->matplotlib->dtreeviz) (1.16.0)\n"
          ]
        }
      ]
    },
    {
      "cell_type": "code",
      "execution_count": null,
      "metadata": {
        "id": "36ec7e65"
      },
      "outputs": [],
      "source": [
        "import pyspark\n",
        "import numpy as np\n",
        "import pandas as pd\n",
        "import seaborn as sns\n",
        "import matplotlib.pyplot as plt\n",
        "from pyspark.sql import SparkSession, SQLContext\n",
        "from pyspark.sql.functions import col\n",
        "from pyspark.ml.regression import LinearRegression\n",
        "from pyspark.ml.evaluation import MulticlassClassificationEvaluator, MultilabelClassificationEvaluator\n",
        "from pyspark.ml.evaluation import RegressionEvaluator\n",
        "from pyspark.ml.regression import RandomForestRegressor\n",
        "from pyspark.ml.regression import GBTRegressor\n",
        "from pyspark.ml.feature import VectorAssembler\n",
        "from pyspark.ml import Pipeline\n",
        "from pyspark.ml.feature import OneHotEncoder, StringIndexer\n",
        "\n",
        "from pyspark.ml.tuning import CrossValidator, ParamGridBuilder, TrainValidationSplit\n",
        "from pyspark.ml import Pipeline\n",
        "from xgboost.spark import SparkXGBRegressor"
      ],
      "id": "36ec7e65"
    },
    {
      "cell_type": "code",
      "execution_count": null,
      "metadata": {
        "colab": {
          "base_uri": "https://localhost:8080/"
        },
        "id": "GlGjJ8Wun4Bq",
        "outputId": "1c1ee9ff-bab0-4032-af87-7d92b3a57e2f"
      },
      "outputs": [
        {
          "output_type": "stream",
          "name": "stdout",
          "text": [
            "Drive already mounted at /content/drive; to attempt to forcibly remount, call drive.mount(\"/content/drive\", force_remount=True).\n"
          ]
        }
      ],
      "source": [
        "from google.colab import drive\n",
        "drive.mount('/content/drive')"
      ],
      "id": "GlGjJ8Wun4Bq"
    },
    {
      "cell_type": "code",
      "execution_count": null,
      "metadata": {
        "id": "zASDc_HCegND"
      },
      "outputs": [],
      "source": [
        "spark = SparkSession.builder.appName(\"myAppName\").getOrCreate()\n"
      ],
      "id": "zASDc_HCegND"
    },
    {
      "cell_type": "code",
      "execution_count": null,
      "metadata": {
        "id": "_xZn57rZzlox"
      },
      "outputs": [],
      "source": [
        "df=spark.read.format(\"parquet\").option(\"header\", True).option(\"inferSchema\", True).load('/content/drive/MyDrive/DISTRIBUTED/output.parquet')"
      ],
      "id": "_xZn57rZzlox"
    },
    {
      "cell_type": "code",
      "execution_count": null,
      "metadata": {
        "id": "aqz2UylY2fHL"
      },
      "outputs": [],
      "source": [
        "df=df.drop(\"FlightDate\",\"Diverted\",\"DivAirportLandings\")\n"
      ],
      "id": "aqz2UylY2fHL"
    },
    {
      "cell_type": "code",
      "execution_count": null,
      "metadata": {
        "id": "ZdH4Swe-JNMp"
      },
      "outputs": [],
      "source": [
        "# dad"
      ],
      "id": "ZdH4Swe-JNMp"
    },
    {
      "cell_type": "code",
      "source": [
        "num_cols_cleaned = [item[0] for item in df.dtypes if item[1] != 'string']\n",
        "print('Le colonne numeriche sono')\n",
        "print(num_cols_cleaned)"
      ],
      "metadata": {
        "colab": {
          "base_uri": "https://localhost:8080/"
        },
        "id": "rA9rlz1qJE5J",
        "outputId": "5bca5d0a-ec5f-4a77-853f-8a37e65555dd"
      },
      "id": "rA9rlz1qJE5J",
      "execution_count": null,
      "outputs": [
        {
          "output_type": "stream",
          "name": "stdout",
          "text": [
            "Le colonne numeriche sono\n",
            "['Cancelled', 'DepDelay', 'AirTime', 'Distance', 'Month', 'DayofMonth', 'DayOfWeek', 'Flight_Number_Marketing_Airline', 'Flight_Number_Operating_Airline', 'OriginAirportID', 'DestAirportID', 'DepDel15', 'DepartureDelayGroups', 'ArrDelay', 'ArrDel15', 'ArrivalDelayGroups', 'DistanceGroup', 'DepTime', 'ArrTime', 'WheelsOff', 'WheelsOn', 'scaled_DepDelay', 'scaled_AirTime', 'scaled_Distance', 'scaled_ArrDelay', 'scaled_DepTime_InMinutes', 'scaled_ArrTime_InMinutes', 'scaled_WheelsOff_InMinutes', 'scaled_WheelsOn_InMinutes']\n"
          ]
        }
      ]
    },
    {
      "cell_type": "code",
      "source": [
        "df_correlation=df.select(['Cancelled', 'DepDelay', 'AirTime', 'Distance', 'Month', 'DayofMonth', 'DayOfWeek', 'Flight_Number_Marketing_Airline', 'Flight_Number_Operating_Airline', 'OriginAirportID', 'DestAirportID', 'DepDel15', 'DepartureDelayGroups', 'ArrDelay', 'ArrDel15', 'ArrivalDelayGroups', 'DistanceGroup', 'DepTime', 'ArrTime', 'WheelsOff', 'WheelsOn', 'scaled_DepDelay', 'scaled_AirTime', 'scaled_Distance', 'scaled_ArrDelay', 'scaled_DepTime_InMinutes', 'scaled_ArrTime_InMinutes', 'scaled_WheelsOff_InMinutes', 'scaled_WheelsOn_InMinutes'])"
      ],
      "metadata": {
        "id": "EtSd-8eDJE9X"
      },
      "id": "EtSd-8eDJE9X",
      "execution_count": null,
      "outputs": []
    },
    {
      "cell_type": "code",
      "source": [
        "from pyspark.ml.stat import Correlation\n",
        "\n",
        "\n",
        "# Select numerical columns for correlation analysis\n",
        "numerical_columns = [col for col in df_correlation['Month', 'DayofMonth', 'DayOfWeek', 'ArrDel15', 'scaled_DepDelay', 'scaled_Distance', 'scaled_WheelsOff_InMinutes', 'scaled_WheelsOn_InMinutes'].columns]\n",
        "\n",
        "vec_assembler_corr = VectorAssembler(inputCols=numerical_columns, outputCol='features')\n",
        "\n",
        "# Transform the DataFrame\n",
        "df_numerical_corr = vec_assembler_corr.transform(df_correlation).select('features')\n",
        "\n",
        "# Compute the correlation matrix\n",
        "correlation_matrix = Correlation.corr(df_numerical_corr, 'features').head()\n",
        "\n",
        "# Extract the correlation matrix as a NumPy array\n",
        "corr_matrix = correlation_matrix[0].toArray()\n",
        "\n",
        "# Convert the correlation matrix to a Pandas DataFrame\n",
        "corr_df = pd.DataFrame(corr_matrix, columns=numerical_columns, index=numerical_columns)\n",
        "\n",
        "# Plot the correlation heatmap\n",
        "plt.figure(figsize=(20, 16))\n",
        "sns.heatmap(corr_df, annot=True, cmap='coolwarm', fmt='.2f', linewidths=.5)\n",
        "plt.title('Correlation Matrix Heatmap')\n",
        "plt.show()\n"
      ],
      "metadata": {
        "colab": {
          "base_uri": "https://localhost:8080/",
          "height": 1000
        },
        "id": "8ZP9Q7uVI75-",
        "outputId": "f306c28a-ad36-4e01-a319-dd22cd6354a1"
      },
      "id": "8ZP9Q7uVI75-",
      "execution_count": null,
      "outputs": [
        {
          "output_type": "display_data",
          "data": {
            "text/plain": [
              "<Figure size 2000x1600 with 2 Axes>"
            ],
            "image/png": "[encoded data removed]"
          },
          "metadata": {}
        }
      ]
    },
    {
      "cell_type": "code",
      "execution_count": null,
      "metadata": {
        "colab": {
          "base_uri": "https://localhost:8080/"
        },
        "id": "hLJ83375hifv",
        "outputId": "45f3d0c4-fa0d-4d94-f0c7-def9b340c7eb"
      },
      "outputs": [
        {
          "output_type": "stream",
          "name": "stdout",
          "text": [
            "+--------------------+------+----+---------+--------+-------+--------+-----+----------+---------+-------------------------+---------------------------------------+-------------------------------+-----------------+-----------+-------------------------------+---------------+--------------------+---------------+-------------+-------------------+-------------+--------+--------------------+----------+--------+--------+------------------+----------+-------------+-------+-------+---------+--------+-------------------+------------------+--------------------+-------------------+------------------------+------------------------+--------------------------+-------------------------+\n",
            "|             Airline|Origin|Dest|Cancelled|DepDelay|AirTime|Distance|Month|DayofMonth|DayOfWeek|Marketing_Airline_Network|Operated_or_Branded_Code_Share_Partners|Flight_Number_Marketing_Airline|Operating_Airline|Tail_Number|Flight_Number_Operating_Airline|OriginAirportID|      OriginCityName|OriginStateName|DestAirportID|       DestCityName|DestStateName|DepDel15|DepartureDelayGroups|DepTimeBlk|ArrDelay|ArrDel15|ArrivalDelayGroups|ArrTimeBlk|DistanceGroup|DepTime|ArrTime|WheelsOff|WheelsOn|    scaled_DepDelay|    scaled_AirTime|     scaled_Distance|    scaled_ArrDelay|scaled_DepTime_InMinutes|scaled_ArrTime_InMinutes|scaled_WheelsOff_InMinutes|scaled_WheelsOn_InMinutes|\n",
            "+--------------------+------+----+---------+--------+-------+--------+-----+----------+---------+-------------------------+---------------------------------------+-------------------------------+-----------------+-----------+-------------------------------+---------------+--------------------+---------------+-------------+-------------------+-------------+--------+--------------------+----------+--------+--------+------------------+----------+-------------+-------+-------+---------+--------+-------------------+------------------+--------------------+-------------------+------------------------+------------------------+--------------------------+-------------------------+\n",
            "|United Air Lines ...|   ORD| LAX|    false|    -3.0|  222.0|  1744.0|    1|        18|        4|                       UA|                                     UA|                           2001|               UA|     N77865|                           2001|          13930|         Chicago, IL|       Illinois|        12892|    Los Angeles, CA|   California|     0.0|                -1.0| 0900-0959|   -33.0|     0.0|              -2.0| 1100-1159|            7|  550.0|  677.0|    567.0|   669.0|0.32701664532650443|0.7556701030927835| 0.34592084006462037|0.32025477707006367|      0.3815149409312022|      0.4697706740792217|        0.3933287004864489|       0.4642112578179291|\n",
            "|United Air Lines ...|   LAX| HNL|    false|    -4.0|  349.0|  2556.0|    3|        18|        7|                       UA|                                     UA|                           1170|               UA|     N69840|                           1170|          12892|     Los Angeles, CA|     California|        12173|       Honolulu, HI|       Hawaii|     0.0|                -1.0| 1600-1659|    -5.0|     0.0|              -1.0| 1900-1959|           11|  976.0| 1165.0|    991.0|  1160.0|0.32676056338028164|0.8211340206185567|  0.5098949919224556| 0.3273885350318471|      0.6775538568450312|       0.808895066018068|        0.6879777623349548|       0.8054204308547602|\n",
            "|     JetBlue Airways|   JFK| FLL|    false|    72.0|  156.0|  1069.0|    4|        22|        7|                       B6|                                     B6|                           1401|               B6|     N974JB|                           1401|          12478|        New York, NY|       New York|        11697|Fort Lauderdale, FL|      Florida|     1.0|                 4.0| 1700-1759|    73.0|     1.0|               4.0| 2000-2059|            5| 1092.0| 1293.0|   1125.0|  1281.0| 0.3462227912932138|0.7216494845360825| 0.20961227786752828| 0.3472611464968153|      0.7581653926337735|      0.8978457261987491|        0.7810979847116053|       0.8895066018068103|\n",
            "|American Airlines...|   DFW| ORD|    false|     5.0|   99.0|   801.0|   10|        10|        3|                       AA|                                     AA|                           1294|               AA|     N163AA|                           1294|          11298|Dallas/Fort Worth...|          Texas|        13930|        Chicago, IL|     Illinois|     0.0|                 0.0| 2000-2059|    -4.0|     0.0|              -1.0| 2300-2359|            4| 1250.0| 1381.0|   1274.0|  1373.0|0.32906530089628677|0.6922680412371134| 0.15549273021001617| 0.3276433121019108|      0.8679638637943016|      0.9589993050729673|        0.8846421125781793|       0.9534398888116747|\n",
            "|       Allegiant Air|   BLV| PGD|    false|    26.0|  132.0|   921.0|    5|        17|        4|                       G4|                                     G4|                           1607|               G4|      249NV|                           1607|          10676|      Belleville, IL|       Illinois|        14082|    Punta Gorda, FL|      Florida|     1.0|                 1.0| 1700-1759|    38.0|     1.0|               2.0| 2000-2059|            4| 1056.0| 1266.0|   1070.0|  1262.0| 0.3344430217669654| 0.709278350515464|  0.1797253634894992|  0.338343949044586|      0.7331480194579569|      0.8790826963168867|        0.7428769979152189|       0.8763029881862404|\n",
            "|SkyWest Airlines ...|   ORD| LGA|    false|   116.0|  102.0|   733.0|   11|        27|        2|                       DL|                           DL_CODESHARE|                           3784|               OO|     N279SY|                           3784|          13930|         Chicago, IL|       Illinois|        12953|       New York, NY|     New York|     1.0|                 7.0| 1400-1459|   139.0|     1.0|               9.0| 1700-1759|            3|  986.0| 1198.0|   1017.0|  1179.0| 0.3574903969270166|0.6938144329896907| 0.14176090468497576|0.36407643312101906|       0.684503127171647|      0.8318276580958999|        0.7060458651841557|       0.8186240444753301|\n",
            "|United Air Lines ...|   IAD| PHX|    false|    -8.0|  279.0|  1956.0|    4|        16|        1|                       UA|                                     UA|                            917|               UA|     N24212|                            917|          12264|      Washington, DC|       Virginia|        14107|        Phoenix, AZ|      Arizona|     0.0|                -1.0| 1700-1759|    -1.0|     0.0|              -1.0| 1900-1959|            8| 1036.0| 1165.0|   1058.0|  1157.0| 0.3257362355953905|0.7850515463917526| 0.38873182552504043|0.32840764331210187|      0.7192494788047255|       0.808895066018068|          0.73453787352328|       0.8033356497567755|\n",
            "|United Air Lines ...|   SFO| ORD|    false|    -5.0|  223.0|  1846.0|   10|        10|        3|                       UA|                                     UA|                            616|               UA|     N53441|                            616|          14771|   San Francisco, CA|     California|        13930|        Chicago, IL|     Illinois|     0.0|                -1.0| 0600-0659|   -19.0|     0.0|              -2.0| 1300-1359|            8|  395.0|  766.0|    408.0|   751.0|0.32650448143405886|0.7561855670103093| 0.36651857835218093|0.32382165605095536|      0.2738012508686588|      0.5316191799861014|        0.2828353022932592|       0.5211952744961779|\n",
            "|SkyWest Airlines ...|   SMF| SAN|    false|   -10.0|   75.0|   480.0|    7|        18|        3|                       AS|                           AS_CODESHARE|                           3343|               OO|     N176SY|                           3343|          14893|      Sacramento, CA|     California|        14679|      San Diego, CA|   California|     0.0|                -1.0| 1400-1459|   -10.0|     0.0|              -1.0| 1600-1659|            2|  872.0|  966.0|    888.0|   963.0|0.32522407170294493|0.6798969072164949| 0.09067043618739903|0.32611464968152865|      0.6052814454482279|      0.6706045865184156|        0.6164002779708131|       0.6685198054204309|\n",
            "|     JetBlue Airways|   LAX| JFK|    false|    -9.0|  300.0|  2475.0|    6|        26|        2|                       B6|                                     B6|                            524|               B6|     N989JB|                            524|          12892|     Los Angeles, CA|     California|        12478|       New York, NY|     New York|     0.0|                -1.0| 1200-1259|   -20.0|     0.0|              -2.0| 2100-2159|           10|  754.0| 1259.0|    765.0|  1245.0| 0.3254801536491677|0.7958762886597939| 0.49353796445880455| 0.3235668789808917|      0.5232800555941626|      0.8742182070882557|        0.5309242529534399|       0.8644892286309938|\n",
            "|    Spirit Air Lines|   MSP| ATL|    false|    -2.0|  121.0|   907.0|    2|        15|        4|                       NK|                                     NK|                            481|               NK|     N526NK|                            481|          13487|     Minneapolis, MN|      Minnesota|        10397|        Atlanta, GA|      Georgia|     0.0|                -1.0| 1100-1159|    -5.0|     0.0|              -1.0| 1400-1459|            4|  668.0|  878.0|    686.0|   867.0|0.32727272727272727|0.7036082474226805| 0.17689822294022617| 0.3273885350318471|     0.46351633078526755|      0.6094510076441974|        0.4760250173731758|       0.6018068102849201|\n",
            "|Southwest Airline...|   TUS| LAX|    false|     1.0|   78.0|   451.0|    4|        19|        4|                       WN|                                     WN|                           1453|               WN|     N280WN|                           1453|          15376|          Tucson, AZ|        Arizona|        12892|    Los Angeles, CA|   California|     0.0|                 0.0| 0001-0559|    -2.0|     0.0|              -1.0| 0700-0759|            2|  356.0|  448.0|    364.0|   442.0|0.32804097311139563|0.6814432989690722| 0.08481421647819064| 0.3281528662420382|     0.24669909659485753|       0.310632383599722|        0.2522585128561501|       0.3064628214037526|\n",
            "|SkyWest Airlines ...|   LGA| BNA|    false|    -7.0|  115.0|   764.0|    9|         1|        6|                       DL|                           DL_CODESHARE|                           3580|               OO|     N272SY|                           3580|          12953|        New York, NY|       New York|        10693|      Nashville, TN|    Tennessee|     0.0|                -1.0| 1100-1159|   -19.0|     0.0|              -2.0| 1200-1259|            4|  658.0|  745.0|    682.0|   737.0| 0.3259923175416133|0.7005154639175258|  0.1480210016155089|0.32382165605095536|      0.4565670604586518|      0.5170257123002084|        0.4732453092425295|       0.5114662960389159|\n",
            "|Capital Cargo Int...|   CLT| BHM|    false|    -2.0|   64.0|   350.0|   12|        12|        3|                       AA|                           AA_CODESHARE|                           4832|               PT|     N604AE|                           4832|          11057|       Charlotte, NC| North Carolina|        10599|     Birmingham, AL|      Alabama|     0.0|                -1.0| 1400-1459|    -6.0|     0.0|              -1.0| 1400-1459|            2|  842.0|  867.0|    858.0|   862.0|0.32727272727272727|0.6742268041237114| 0.06441841680129241| 0.3271337579617834|      0.5844336344683808|      0.6018068102849201|         0.595552466990966|       0.5983321751216122|\n",
            "|Air Wisconsin Air...|   LNK| ORD|    false|   -14.0|   73.0|   466.0|    4|        24|        2|                       UA|                           UA_CODESHARE|                           3922|               ZW|     N452AW|                           3922|          13029|         Lincoln, NE|       Nebraska|        13930|        Chicago, IL|     Illinois|     0.0|                -1.0| 0600-0659|    -2.0|     0.0|              -1.0| 0700-0759|            2|  354.0|  473.0|    371.0|   444.0|0.32419974391805373|0.6788659793814433| 0.08784329563812601| 0.3281528662420382|      0.2453092425295344|      0.3280055594162613|        0.2571230020847811|      0.30785267546907574|\n",
            "|Southwest Airline...|   IND| TPA|    false|    -4.0|  109.0|   837.0|    2|        23|        5|                       WN|                                     WN|                           1572|               WN|     N209WN|                           1572|          12339|    Indianapolis, IN|        Indiana|        15304|          Tampa, FL|      Florida|     0.0|                -1.0| 0001-0559|   -20.0|     0.0|              -2.0| 0700-0759|            4|  326.0|  450.0|    336.0|   445.0|0.32676056338028164|0.6974226804123711|  0.1627625201938611| 0.3235668789808917|     0.22585128561501042|     0.31202223766504517|       0.23280055594162613|       0.3085476025017373|\n",
            "|SkyWest Airlines ...|   MSP| BDL|    false|    25.0|  120.0|  1050.0|   11|         7|        3|                       DL|                           DL_CODESHARE|                           3822|               OO|     N679CA|                           3822|          13487|     Minneapolis, MN|      Minnesota|        10529|       Hartford, CT|  Connecticut|     1.0|                 1.0| 0800-0859|    38.0|     1.0|               2.0| 1200-1259|            5|  550.0|  778.0|    593.0|   773.0| 0.3341869398207426|0.7030927835051547| 0.20577544426494346|  0.338343949044586|      0.3815149409312022|      0.5399583043780403|       0.41139680333564976|       0.5364836692147325|\n",
            "|Delta Air Lines Inc.|   ATL| PHL|    false|    -5.0|   94.0|   666.0|    9|        15|        6|                       DL|                                     DL|                           1561|               DL|     N987DL|                           1561|          10397|         Atlanta, GA|        Georgia|        14100|   Philadelphia, PA| Pennsylvania|     0.0|                -1.0| 1200-1259|   -15.0|     0.0|              -1.0| 1400-1459|            3|  728.0|  843.0|    743.0|   837.0|0.32650448143405886|0.6896907216494845| 0.12823101777059775| 0.3248407643312102|      0.5052119527449618|      0.5851285615010424|        0.5156358582348853|        0.580958999305073|\n",
            "|     JetBlue Airways|   ORD| BOS|    false|     1.0|  101.0|   867.0|   11|        11|        7|                       B6|                                     B6|                           1012|               B6|     N249JB|                           1012|          13930|         Chicago, IL|       Illinois|        10721|         Boston, MA|Massachusetts|     0.0|                 0.0| 0900-0959|   -16.0|     0.0|              -2.0| 1200-1259|            4|  563.0|  737.0|    573.0|   734.0|0.32804097311139563|0.6932989690721649| 0.16882067851373184|0.32458598726114646|     0.39054899235580265|      0.5114662960389159|       0.39749826268241834|       0.5093815149409312|\n",
            "|Southwest Airline...|   AUS| HOU|    false|    15.0|   31.0|   148.0|    7|        11|        3|                       WN|                                     WN|                           2473|               WN|     N719SW|                           2473|          10423|          Austin, TX|          Texas|        12191|        Houston, TX|        Texas|     1.0|                 1.0| 1200-1259|    -2.0|     0.0|              -1.0| 1300-1359|            1|  775.0|  818.0|    783.0|   814.0| 0.3316261203585147|0.6572164948453608|0.023626817447495962| 0.3281528662420382|      0.5378735232800556|      0.5677553856845031|        0.5434329395413482|       0.5649756775538568|\n",
            "+--------------------+------+----+---------+--------+-------+--------+-----+----------+---------+-------------------------+---------------------------------------+-------------------------------+-----------------+-----------+-------------------------------+---------------+--------------------+---------------+-------------+-------------------+-------------+--------+--------------------+----------+--------+--------+------------------+----------+-------------+-------+-------+---------+--------+-------------------+------------------+--------------------+-------------------+------------------------+------------------------+--------------------------+-------------------------+\n",
            "only showing top 20 rows\n",
            "\n"
          ]
        }
      ],
      "source": [
        "df.show()"
      ],
      "id": "hLJ83375hifv"
    },
    {
      "cell_type": "markdown",
      "metadata": {
        "id": "Hg3O_jB0Vo-e"
      },
      "source": [
        "Some columns are One Hot encodate in order to make the future processing of the algorithm of them possible. Through StringIndexer function we convert the columns of strings into columns of numerical indexes."
      ],
      "id": "Hg3O_jB0Vo-e"
    },
    {
      "cell_type": "code",
      "execution_count": null,
      "metadata": {
        "id": "aGBwynVvr5PZ"
      },
      "outputs": [],
      "source": [
        "df = df.withColumn(\"Cancelled\", df[\"Cancelled\"].cast(\"string\"))"
      ],
      "id": "aGBwynVvr5PZ"
    },
    {
      "cell_type": "markdown",
      "metadata": {
        "id": "0mA6F9yDpvPz"
      },
      "source": [
        "Definisco un nuovo dataframe per la regressione"
      ],
      "id": "0mA6F9yDpvPz"
    },
    {
      "cell_type": "code",
      "execution_count": null,
      "metadata": {
        "id": "FGE2jGaajD9a"
      },
      "outputs": [],
      "source": [
        "df_regress= df.select('Month', 'DayofMonth', 'DayOfWeek', 'ArrDel15', 'scaled_DepDelay', 'scaled_Distance', 'scaled_WheelsOff_InMinutes', 'scaled_WheelsOn_InMinutes')"
      ],
      "id": "FGE2jGaajD9a"
    },
    {
      "cell_type": "code",
      "execution_count": null,
      "metadata": {
        "colab": {
          "base_uri": "https://localhost:8080/"
        },
        "id": "zSg7sLy0ycLN",
        "outputId": "b9b68966-ee38-4c12-c490-c7a112c7b748"
      },
      "outputs": [
        {
          "output_type": "stream",
          "name": "stdout",
          "text": [
            "+-----+----------+---------+--------+-------------------+--------------------+--------------------------+-------------------------+\n",
            "|Month|DayofMonth|DayOfWeek|ArrDel15|    scaled_DepDelay|     scaled_Distance|scaled_WheelsOff_InMinutes|scaled_WheelsOn_InMinutes|\n",
            "+-----+----------+---------+--------+-------------------+--------------------+--------------------------+-------------------------+\n",
            "|    1|        18|        4|     0.0|0.32701664532650443| 0.34592084006462037|        0.3933287004864489|       0.4642112578179291|\n",
            "|    3|        18|        7|     0.0|0.32676056338028164|  0.5098949919224556|        0.6879777623349548|       0.8054204308547602|\n",
            "|    4|        22|        7|     1.0| 0.3462227912932138| 0.20961227786752828|        0.7810979847116053|       0.8895066018068103|\n",
            "|   10|        10|        3|     0.0|0.32906530089628677| 0.15549273021001617|        0.8846421125781793|       0.9534398888116747|\n",
            "|    5|        17|        4|     1.0| 0.3344430217669654|  0.1797253634894992|        0.7428769979152189|       0.8763029881862404|\n",
            "|   11|        27|        2|     1.0| 0.3574903969270166| 0.14176090468497576|        0.7060458651841557|       0.8186240444753301|\n",
            "|    4|        16|        1|     0.0| 0.3257362355953905| 0.38873182552504043|          0.73453787352328|       0.8033356497567755|\n",
            "|   10|        10|        3|     0.0|0.32650448143405886| 0.36651857835218093|        0.2828353022932592|       0.5211952744961779|\n",
            "|    7|        18|        3|     0.0|0.32522407170294493| 0.09067043618739903|        0.6164002779708131|       0.6685198054204309|\n",
            "|    6|        26|        2|     0.0| 0.3254801536491677| 0.49353796445880455|        0.5309242529534399|       0.8644892286309938|\n",
            "|    2|        15|        4|     0.0|0.32727272727272727| 0.17689822294022617|        0.4760250173731758|       0.6018068102849201|\n",
            "|    4|        19|        4|     0.0|0.32804097311139563| 0.08481421647819064|        0.2522585128561501|       0.3064628214037526|\n",
            "|    9|         1|        6|     0.0| 0.3259923175416133|  0.1480210016155089|        0.4732453092425295|       0.5114662960389159|\n",
            "|   12|        12|        3|     0.0|0.32727272727272727| 0.06441841680129241|         0.595552466990966|       0.5983321751216122|\n",
            "|    4|        24|        2|     0.0|0.32419974391805373| 0.08784329563812601|        0.2571230020847811|      0.30785267546907574|\n",
            "|    2|        23|        5|     0.0|0.32676056338028164|  0.1627625201938611|       0.23280055594162613|       0.3085476025017373|\n",
            "|   11|         7|        3|     1.0| 0.3341869398207426| 0.20577544426494346|       0.41139680333564976|       0.5364836692147325|\n",
            "|    9|        15|        6|     0.0|0.32650448143405886| 0.12823101777059775|        0.5156358582348853|        0.580958999305073|\n",
            "|   11|        11|        7|     0.0|0.32804097311139563| 0.16882067851373184|       0.39749826268241834|       0.5093815149409312|\n",
            "|    7|        11|        3|     0.0| 0.3316261203585147|0.023626817447495962|        0.5434329395413482|       0.5649756775538568|\n",
            "+-----+----------+---------+--------+-------------------+--------------------+--------------------------+-------------------------+\n",
            "only showing top 20 rows\n",
            "\n"
          ]
        }
      ],
      "source": [
        "df_regress.show()"
      ],
      "id": "zSg7sLy0ycLN"
    },
    {
      "cell_type": "code",
      "execution_count": null,
      "metadata": {
        "id": "BuIhDsSVkJUo"
      },
      "outputs": [],
      "source": [
        "trainingData, testData = df_regress.randomSplit([0.7, 0.3],seed=150)"
      ],
      "id": "BuIhDsSVkJUo"
    },
    {
      "cell_type": "code",
      "execution_count": null,
      "metadata": {
        "colab": {
          "base_uri": "https://localhost:8080/"
        },
        "id": "PPk1X7SUlaSZ",
        "outputId": "41491a7c-0907-4ecb-cab8-849d68da5085"
      },
      "outputs": [
        {
          "output_type": "stream",
          "name": "stdout",
          "text": [
            "+-----+----------+---------+--------+-------------------+--------------------+--------------------------+-------------------------+\n",
            "|Month|DayofMonth|DayOfWeek|ArrDel15|    scaled_DepDelay|     scaled_Distance|scaled_WheelsOff_InMinutes|scaled_WheelsOn_InMinutes|\n",
            "+-----+----------+---------+--------+-------------------+--------------------+--------------------------+-------------------------+\n",
            "|    1|         1|        1|     0.0|  0.322663252240717|0.012722132471728596|        0.4120917303683113|      0.43015983321751217|\n",
            "|    1|         1|        1|     0.0| 0.3229193341869398|0.025242326332794832|        0.8582348853370396|       0.8839471855455177|\n",
            "|    1|         1|        1|     0.0| 0.3229193341869398| 0.04422455573505654|        0.6275191104933981|       0.6594857539958304|\n",
            "|    1|         1|        1|     0.0| 0.3229193341869398|  0.2994749596122779|        0.7720639332870048|       0.9812369701181376|\n",
            "|    1|         1|        1|     0.0|0.32343149807938537| 0.34592084006462037|        0.7428769979152189|       0.8290479499652537|\n",
            "|    1|         1|        1|     0.0|0.32368758002560816| 0.04483037156704362|        0.6330785267546908|       0.6671299513551077|\n",
            "|    1|         1|        1|     0.0|0.32394366197183094| 0.04745557350565428|       0.40653231410701873|      0.44405837387074354|\n",
            "|    1|         1|        1|     0.0|0.32394366197183094|  0.0688610662358643|        0.8895066018068103|       0.9312022237665045|\n",
            "|    1|         1|        1|     0.0|0.32394366197183094| 0.12338449111470114|        0.5747046560111189|        0.610145934676859|\n",
            "|    1|         1|        1|     0.0|0.32394366197183094| 0.17790791599353797|        0.3669214732453092|       0.4503127171646977|\n",
            "|    1|         1|        1|     0.0|0.32394366197183094|  0.2726171243941842|        0.7623349548297429|       0.8665740097289785|\n",
            "|    1|         1|        1|     0.0|0.32394366197183094|  0.3420840064620356|        0.5253648366921473|       0.7498262682418346|\n",
            "|    1|         1|        1|     0.0|0.32419974391805373| 0.15205977382875607|       0.46073662265462123|       0.5434329395413482|\n",
            "|    1|         1|        1|     0.0|0.32419974391805373|  0.1738691437802908|        0.7387074357192495|       0.8151494093120222|\n",
            "|    1|         1|        1|     0.0|0.32419974391805373| 0.19123586429725364|       0.48366921473245306|       0.5781792911744267|\n",
            "|    1|         1|        1|     0.0|0.32419974391805373|  0.4557754442649435|        0.2661570535093815|      0.37178596247394025|\n",
            "|    1|         1|        1|     0.0| 0.3244558258642765| 0.07269789983844911|        0.7400972897845726|       0.7797081306462821|\n",
            "|    1|         1|        1|     0.0| 0.3244558258642765|  0.0781502423263328|        0.6914523974982627|       0.7824878387769284|\n",
            "|    1|         1|        1|     0.0| 0.3244558258642765| 0.12136510500807755|        0.7887421820708825|       0.8464211257817928|\n",
            "|    1|         1|        1|     0.0| 0.3244558258642765|  0.1308562197092084|        0.6824183460736623|       0.7470465601111883|\n",
            "+-----+----------+---------+--------+-------------------+--------------------+--------------------------+-------------------------+\n",
            "only showing top 20 rows\n",
            "\n"
          ]
        }
      ],
      "source": [
        "trainingData.show()"
      ],
      "id": "PPk1X7SUlaSZ"
    },
    {
      "cell_type": "code",
      "execution_count": null,
      "metadata": {
        "id": "_kDJWuSiCX-p"
      },
      "outputs": [],
      "source": [],
      "id": "_kDJWuSiCX-p"
    },
    {
      "cell_type": "code",
      "execution_count": null,
      "metadata": {
        "id": "tcMV6GyMkMfZ"
      },
      "outputs": [],
      "source": [
        "\n",
        "\n",
        "from pyspark.ml.feature import MinMaxScaler, VectorAssembler\n",
        "features = trainingData.schema.names\n",
        "\n",
        "#converting the features columns to 1 feature column using VectorAssembler\n",
        "vectorassembler = VectorAssembler(inputCols = features, outputCol= 'assemblerfeatures')\n",
        "\n",
        "#Scaling the vector assembler result before starting the model training\n",
        "# featurescaler = MinMaxScaler(inputCol = 'assemblerfeatures', outputCol = 'features')"
      ],
      "id": "tcMV6GyMkMfZ"
    },
    {
      "cell_type": "code",
      "execution_count": null,
      "metadata": {
        "colab": {
          "base_uri": "https://localhost:8080/"
        },
        "id": "q9cm3No_kPfI",
        "outputId": "301d57ff-4bf0-4e49-9bb1-8553c1a4cb67"
      },
      "outputs": [
        {
          "output_type": "execute_result",
          "data": {
            "text/plain": [
              "['Month',\n",
              " 'DayofMonth',\n",
              " 'DayOfWeek',\n",
              " 'ArrDel15',\n",
              " 'scaled_DepDelay',\n",
              " 'scaled_Distance',\n",
              " 'scaled_WheelsOff_InMinutes',\n",
              " 'scaled_WheelsOn_InMinutes']"
            ]
          },
          "metadata": {},
          "execution_count": 17
        }
      ],
      "source": [
        "features"
      ],
      "id": "q9cm3No_kPfI"
    },
    {
      "cell_type": "code",
      "execution_count": null,
      "metadata": {
        "id": "NQyvNUrXu_Lf"
      },
      "outputs": [],
      "source": [],
      "id": "NQyvNUrXu_Lf"
    },
    {
      "cell_type": "code",
      "execution_count": null,
      "metadata": {
        "id": "kE3aB783vItY"
      },
      "outputs": [],
      "source": [
        "pipeline_preprocessing = Pipeline(stages=[vectorassembler])\n",
        "\n",
        "# Preprocessing del training set\n",
        "model_preprocessing = pipeline_preprocessing.fit(trainingData)\n",
        "X_y_train = model_preprocessing.transform(trainingData)\n",
        "X_y_test = model_preprocessing.transform(testData)"
      ],
      "id": "kE3aB783vItY"
    },
    {
      "cell_type": "markdown",
      "metadata": {
        "id": "Jzn2p1kxN9US"
      },
      "source": [
        "# LINEAR REGRESSOR"
      ],
      "id": "Jzn2p1kxN9US"
    },
    {
      "cell_type": "markdown",
      "metadata": {
        "id": "iD5PHL_2iwip"
      },
      "source": [
        "we implement a ParamGridBuilder to optimize the selection of parameters for our LinearRegressor. The parameters of regParam, elasticNetParam, maxIter, Epsilon are tested:\n",
        "\n",
        " - maxIter is the maximum iteration number during model training, using Gradient Descent.\n",
        " - Epsilon is the tolerance value for the convergence of optimization. is a method used to accelerate the convergence process.\n",
        "\n",
        "We do not optimize regParam and elasticNetParam because these control the adjustment force on the linear regression model in such a way as to prevent overfitting(L1 and L2 regularization). Since we do not use many features in our model, we consider it useful to avoid optimizing this parameter to streamline computational complexity."
      ],
      "id": "iD5PHL_2iwip"
    },
    {
      "cell_type": "code",
      "execution_count": null,
      "metadata": {
        "id": "wxMhGU_MAqhf"
      },
      "outputs": [],
      "source": [
        "# import numpy as np\n",
        "# import matplotlib.pyplot as plt\n",
        "# from pyspark.ml.tuning import CrossValidator\n",
        "# from pyspark.ml.evaluation import RegressionEvaluator\n",
        "# from pyspark.ml.regression import LinearRegression\n",
        "# from pyspark.ml.feature import VectorAssembler\n",
        "# from pyspark.ml import Pipeline\n",
        "\n",
        "# feature = [col for col in features if col != \"scaled_DepDelay\"]\n",
        "# vectorassembler = VectorAssembler(inputCols=feature, outputCol='assemblerfeatures')\n",
        "# feature_selector = VectorAssembler(inputCols=['assemblerfeatures'], outputCol='selected_features')\n",
        "\n",
        "# lr = LinearRegression(featuresCol='selected_features', labelCol='scaled_DepDelay', predictionCol='pred_score')\n",
        "\n",
        "# pipeline_preprocessing = Pipeline(stages=[vectorassembler, feature_selector])\n",
        "# pipeline_with_lr = Pipeline(stages=[pipeline_preprocessing, lr])\n",
        "\n",
        "# # Lista di dizionari dei parametri da testare\n",
        "# param_maps = [\n",
        "#     {lr.maxIter: 20, lr.epsilon: 1.5},\n",
        "#     {lr.maxIter: 20, lr.epsilon: 2.0},\n",
        "#     {lr.maxIter: 20, lr.epsilon: 2.2},\n",
        "#     {lr.maxIter: 40, lr.epsilon: 1.5},\n",
        "#     {lr.maxIter: 40, lr.epsilon: 2.0},\n",
        "#     {lr.maxIter: 40, lr.epsilon: 2.2},\n",
        "# ]\n",
        "\n",
        "# # Cross validation\n",
        "# cross_validator = CrossValidator(estimator=pipeline_with_lr,\n",
        "#                                  estimatorParamMaps=param_maps,\n",
        "#                                  evaluator=RegressionEvaluator(labelCol=\"scaled_DepDelay\", predictionCol=\"pred_score\", metricName=\"rmse\"),\n",
        "#                                  numFolds=3,\n",
        "#                                  seed=42)\n",
        "\n",
        "# cv_model = cross_validator.fit(trainingData)\n",
        "# best_model = cv_model.bestModel\n",
        "\n",
        "# # >>>>> Predictions\n",
        "# pred_lr = best_model.transform(testData)\n",
        "\n",
        "# # >>>>> Evaluation\n",
        "# evaluator_rmse = RegressionEvaluator(labelCol=\"scaled_DepDelay\", predictionCol=\"pred_score\", metricName=\"rmse\")\n",
        "# evaluator_r2 = RegressionEvaluator(labelCol=\"scaled_DepDelay\", predictionCol=\"pred_score\", metricName=\"r2\")\n",
        "# evaluator_mse = RegressionEvaluator(labelCol=\"scaled_DepDelay\", predictionCol=\"pred_score\", metricName=\"mse\")\n",
        "\n",
        "# rmse = evaluator_rmse.evaluate(pred_lr)\n",
        "# r2 = evaluator_r2.evaluate(pred_lr)\n",
        "# mse = evaluator_mse.evaluate(pred_lr)\n",
        "\n",
        "# print(f\"Root Mean Squared Error (RMSE) on test data: {rmse}\")\n",
        "# print(f\"Coefficient of Determination (R^2) on test data: {r2}\")\n",
        "# print(f\"Mean Squared Error (MSE) on test data: {mse}\")\n"
      ],
      "id": "wxMhGU_MAqhf"
    },
    {
      "cell_type": "code",
      "execution_count": null,
      "metadata": {
        "id": "BrRuYMENGJbD"
      },
      "outputs": [],
      "source": [
        "# # >>>>> Best parameter after the expect the dictionaries\n",
        "# best_params = best_model.stages[-1].extractParamMap()\n",
        "# for param, value in best_params.items():\n",
        "#     print(f\"{param.name}: {value}\")"
      ],
      "id": "BrRuYMENGJbD"
    },
    {
      "cell_type": "code",
      "source": [
        "# Lista delle colonne di interesse\n",
        "feature_cols = [col for col in features if col != \"scaled_DepDelay\"]\n",
        "\n",
        "# Creazione di un VectorAssembler\n",
        "vector_assembler = VectorAssembler(inputCols=feature_cols, outputCol='assemblerfeatures')\n",
        "\n",
        "# Creazione del modello di regressione lineare\n",
        "lr = LinearRegression(featuresCol='assemblerfeatures', labelCol='scaled_DepDelay', predictionCol='pred_score', maxIter=20, epsilon=1.5)\n",
        "\n",
        "# Creazione di un pipeline\n",
        "pipeline = Pipeline(stages=[vector_assembler, lr])\n",
        "\n",
        "# Addestramento del modello\n",
        "model_lr = pipeline.fit(trainingData)\n",
        "\n",
        "# Predizioni sul set di test\n",
        "pred_lr = model_lr.transform(testData)\n",
        "\n",
        "# Valutazione del modello\n",
        "evaluator_rmse = RegressionEvaluator(labelCol=\"scaled_DepDelay\", predictionCol=\"pred_score\", metricName=\"rmse\")\n",
        "evaluator_r2 = RegressionEvaluator(labelCol=\"scaled_DepDelay\", predictionCol=\"pred_score\", metricName=\"r2\")\n",
        "evaluator_mse = RegressionEvaluator(labelCol=\"scaled_DepDelay\", predictionCol=\"pred_score\", metricName=\"mse\")\n",
        "\n",
        "rmse = evaluator_rmse.evaluate(pred_lr)\n",
        "r2 = evaluator_r2.evaluate(pred_lr)\n",
        "mse = evaluator_mse.evaluate(pred_lr)\n",
        "\n",
        "print(f\"Root Mean Squared Error (RMSE) on test data: {rmse}\")\n",
        "print(f\"Coefficient of Determination (R^2) on test data: {r2}\")\n",
        "print(f\"Mean Squared Error (MSE) on test data: {mse}\")"
      ],
      "metadata": {
        "colab": {
          "base_uri": "https://localhost:8080/"
        },
        "id": "vOyevZm_qcNx",
        "outputId": "0d0d3cb8-b75d-4290-f0e5-4111abc7cea0"
      },
      "id": "vOyevZm_qcNx",
      "execution_count": null,
      "outputs": [
        {
          "output_type": "stream",
          "name": "stdout",
          "text": [
            "Root Mean Squared Error (RMSE) on test data: 0.00974601027895872\n",
            "Coefficient of Determination (R^2) on test data: 0.29821858878162033\n",
            "Mean Squared Error (MSE) on test data: 9.498471635756905e-05\n"
          ]
        }
      ]
    },
    {
      "cell_type": "markdown",
      "metadata": {
        "id": "XzjiiS1ov_G2"
      },
      "source": [
        "## INTERCEPT AND COEFFICIENT"
      ],
      "id": "XzjiiS1ov_G2"
    },
    {
      "cell_type": "code",
      "execution_count": null,
      "metadata": {
        "colab": {
          "base_uri": "https://localhost:8080/"
        },
        "id": "gymAow3yB_nr",
        "outputId": "99bf1431-07a3-4f45-b511-0c7f971b4fbd"
      },
      "outputs": [
        {
          "output_type": "stream",
          "name": "stdout",
          "text": [
            "Coefficients: [-2.8425861321413467e-05,-4.204061188538922e-06,3.4038584187264763e-06,0.015677330088980014,0.0006366600449219104,0.004025979600466158,-0.0031189900634890936]\n",
            "Intercept: 0.32708516042778757\n"
          ]
        }
      ],
      "source": [
        "model_lr = pipeline_with_lr.fit(trainingData)\n",
        "\n",
        "coefficients = model_lr.stages[-1].coefficients\n",
        "intercept = model_lr.stages[-1].intercept\n",
        "\n",
        "print(\"Coefficients: {}\".format(coefficients))\n",
        "print(\"Intercept: {}\".format(intercept))"
      ],
      "id": "gymAow3yB_nr"
    },
    {
      "cell_type": "markdown",
      "metadata": {
        "id": "gphSfLkow-0q"
      },
      "source": [
        "\n",
        "## EVALUATING OVERFITTING: TRAIN ERROR AND TEST AND LEARNING CURVES"
      ],
      "id": "gphSfLkow-0q"
    },
    {
      "cell_type": "code",
      "source": [
        "modellr = pipeline.fit(X_y_train)\n",
        "\n",
        "train_predictionslr = modellr.transform(trainingData)\n",
        "test_predictionslr = modellr.transform(testData)\n",
        "\n",
        "# >>>>> Evaluation\n",
        "evaluator_rmse = RegressionEvaluator(labelCol=\"scaled_DepDelay\", predictionCol=\"prediction\", metricName=\"rmse\")\n",
        "evaluator_r2 = RegressionEvaluator(labelCol=\"scaled_DepDelay\", predictionCol=\"prediction\", metricName=\"r2\")\n",
        "\n",
        "# >>>>> RMSE\n",
        "rmse_train = evaluator_rmse.evaluate(train_predictionslr)\n",
        "rmse_test = evaluator_rmse.evaluate(test_predictionslr)\n",
        "print(f\"Root Mean Squared Error (RMSE) on training data: {rmse_train}\")\n",
        "print(f\"Root Mean Squared Error (RMSE) on test data: {rmse_test}\")\n",
        "\n",
        "# >>>>> R^2\n",
        "r2_train = evaluator_r2.evaluate(train_predictionslr)\n",
        "r2_test = evaluator_r2.evaluate(test_predictionslr)\n",
        "print(f\"Coefficient of Determination (R^2) on training data: {r2_train}\")\n",
        "print(f\"Coefficient of Determination (R^2) on test data: {r2_test}\")\n"
      ],
      "metadata": {
        "colab": {
          "base_uri": "https://localhost:8080/"
        },
        "id": "0R1FLxvyt71P",
        "outputId": "b04bf97c-a60f-46e4-9bbc-f5647fe265cd"
      },
      "id": "0R1FLxvyt71P",
      "execution_count": null,
      "outputs": [
        {
          "output_type": "stream",
          "name": "stdout",
          "text": [
            "Root Mean Squared Error (RMSE) on training data: 1.4058361321425017e-15\n",
            "Root Mean Squared Error (RMSE) on test data: 1.4179385270467294e-15\n",
            "Coefficient of Determination (R^2) on training data: 1.0\n",
            "Coefficient of Determination (R^2) on test data: 1.0\n"
          ]
        }
      ]
    },
    {
      "cell_type": "code",
      "execution_count": null,
      "metadata": {
        "id": "3HK_wbQrBNAA"
      },
      "outputs": [],
      "source": [
        "# from pyspark.ml.feature import VectorAssembler\n",
        "# from pyspark.ml.regression import LinearRegression\n",
        "# from pyspark.ml.evaluation import RegressionEvaluator\n",
        "# import numpy as np\n",
        "# import matplotlib.pyplot as plt\n",
        "\n",
        "# train_sizes = np.linspace(0.1, 1.0, 10)\n",
        "\n",
        "# train_errors = []\n",
        "# test_errors = []\n",
        "\n",
        "# assembler_col_name = \"assemblerfeatures\"\n",
        "# vectorassembler = VectorAssembler(inputCols=['Month', 'DayofMonth', 'DayOfWeek', 'ArrDel15', 'scaled_Distance', 'scaled_WheelsOff_InMinutes', 'scaled_WheelsOn_InMinutes'],\n",
        "#                                   outputCol=assembler_col_name)\n",
        "\n",
        "# for train_size in train_sizes:\n",
        "#     subset_train = trainingData.sample(False, train_size, seed=42)\n",
        "\n",
        "#     subset_train = vectorassembler.transform(subset_train)\n",
        "\n",
        "#     lr = LinearRegression(featuresCol=assembler_col_name, labelCol=\"scaled_DepDelay\", predictionCol=\"pred_score\")\n",
        "#     model_lr = lr.fit(subset_train)\n",
        "#     train_predictions = model_lr.transform(subset_train)\n",
        "\n",
        "#     vectorassembler_test = VectorAssembler(inputCols=vectorassembler.getInputCols(), outputCol=assembler_col_name)\n",
        "#     testData_transformed = vectorassembler_test.transform(testData)\n",
        "\n",
        "#     test_predictions = model_lr.transform(testData_transformed)\n",
        "\n",
        "#     evaluator = RegressionEvaluator(labelCol=\"scaled_DepDelay\", predictionCol=\"pred_score\", metricName=\"rmse\")\n",
        "#     train_rmse = evaluator.evaluate(train_predictions)\n",
        "#     test_rmse = evaluator.evaluate(test_predictions)\n",
        "\n",
        "#     train_errors.append(train_rmse)\n",
        "#     test_errors.append(test_rmse)\n",
        "\n",
        "# # Plotting\n",
        "# plt.figure(figsize=(10, 6))\n",
        "# plt.plot(train_sizes, train_errors, label=\"Train RMSE\")\n",
        "# plt.plot(train_sizes, test_errors, label=\"Test RMSE\")\n",
        "# plt.title(\"Learning Curve\")\n",
        "# plt.xlabel(\"Training Set Size\")\n",
        "# plt.ylabel(\"Root Mean Squared Error (RMSE)\")\n",
        "# plt.legend()\n",
        "# plt.show()\n"
      ],
      "id": "3HK_wbQrBNAA"
    },
    {
      "cell_type": "markdown",
      "metadata": {
        "id": "wVL1BpB4fbtw"
      },
      "source": [
        "# RANDOM FOREST REGRESSOR"
      ],
      "id": "wVL1BpB4fbtw"
    },
    {
      "cell_type": "markdown",
      "source": [
        "## PARAMGRIDBUILDER"
      ],
      "metadata": {
        "id": "ahpTNhc7sahy"
      },
      "id": "ahpTNhc7sahy"
    },
    {
      "cell_type": "markdown",
      "metadata": {
        "id": "ih9HIUsglQ6U"
      },
      "source": [
        "We also implement in this case a process of optimization of the optimal parameters for our Random Forest Regressor. The parameters taken into account are maxdepth, numTrees:\n",
        "- maxdepth which controls the depth of the trees, the deeper the greater the computational cost. We try to find a middle way between efficiency and effectiveness;\n",
        "-numTrees controls the number of trees, same strategy as above;\n"
      ],
      "id": "ih9HIUsglQ6U"
    },
    {
      "cell_type": "code",
      "execution_count": null,
      "metadata": {
        "id": "b8gd2BbSNVCx"
      },
      "outputs": [],
      "source": [
        "# import numpy as np\n",
        "# import matplotlib.pyplot as plt\n",
        "# from pyspark.ml.tuning import CrossValidator\n",
        "# from pyspark.ml.evaluation import RegressionEvaluator\n",
        "# from pyspark.ml.regression import RandomForestRegressor\n",
        "# from pyspark.ml.feature import VectorAssembler\n",
        "# from pyspark.ml import Pipeline\n",
        "\n",
        "# # Aggiunta dello stage di selezione delle colonne\n",
        "# feature_selector = VectorAssembler(inputCols=['features'], outputCol='final_features')\n",
        "\n",
        "# # Definizione del modello di regressione Random Forest\n",
        "# rf_regr = RandomForestRegressor(featuresCol=\"final_features\", labelCol=\"scaled_DepDelay\", predictionCol='pred_score')\n",
        "\n",
        "# # Costruzione del pipeline\n",
        "# pipeline_preprocessing = Pipeline(stages=[vectorassembler, feature_selector])\n",
        "\n",
        "# # Aggiungi il modello al pipeline\n",
        "# pipeline_with_rf = Pipeline(stages=[pipeline_preprocessing, rf_regr])\n",
        "\n",
        "# # Liste di dizionari dei parametri da testare\n",
        "# param_maps = [\n",
        "#     {rf_regr.maxDepth: 5, rf_regr.numTrees: 20},\n",
        "#     {rf_regr.maxDepth: 5, rf_regr.numTrees: 30},\n",
        "#     {rf_regr.maxDepth: 5, rf_regr.numTrees: 40},\n",
        "#     {rf_regr.maxDepth: 10, rf_regr.numTrees: 20},\n",
        "#     {rf_regr.maxDepth: 10, rf_regr.numTrees: 30},\n",
        "#     {rf_regr.maxDepth: 10, rf_regr.numTrees: 40},\n",
        "#     {rf_regr.maxDepth: 15, rf_regr.numTrees: 20},\n",
        "#     {rf_regr.maxDepth: 15, rf_regr.numTrees: 30},\n",
        "#     {rf_regr.maxDepth: 15, rf_regr.numTrees: 40},\n",
        "# ]\n",
        "\n",
        "# # Creazione dell'oggetto CrossValidator con i parametri corretti\n",
        "# cross_validator = CrossValidator(estimator=pipeline_with_rf,\n",
        "#                                  estimatorParamMaps=param_maps,\n",
        "#                                  evaluator=RegressionEvaluator(labelCol=\"scaled_DepDelay\", predictionCol=\"pred_score\", metricName=\"rmse\"),\n",
        "#                                  numFolds=3,\n",
        "#                                  seed=42)\n",
        "\n",
        "# # Esegui la cross-validation per trovare la combinazione migliore di parametri\n",
        "# cv_model = cross_validator.fit(X_y_train)\n",
        "\n",
        "# # Effettua le predizioni sul test set\n",
        "# pred_rf = cv_model.transform(X_y_test)\n",
        "\n",
        "# # Valutazione delle performance\n",
        "# evaluator = RegressionEvaluator(labelCol=\"scaled_DepDelay\", predictionCol=\"pred_score\", metricName=\"rmse\")\n",
        "# rmse = evaluator.evaluate(pred_rf)\n",
        "\n",
        "# # Memorizzazione delle performance nel dizionario\n",
        "# performance_results[(maxDepth, numTrees)] = rmse\n",
        "\n",
        "# # Creazione di un grafico delle performance al variare dei parametri\n",
        "# depths, trees = zip(*performance_results.keys())\n",
        "# rmse_values = list(performance_results.values())\n",
        "\n",
        "# fig = plt.figure()\n",
        "# ax = fig.add_subplot(projection='3d')\n",
        "# ax.scatter(depths, trees, rmse_values, c='blue')\n",
        "# ax.set_xlabel('maxDepth')\n",
        "# ax.set_ylabel('numTrees')\n",
        "# ax.set_zlabel('RMSE')\n",
        "# plt.show()\n"
      ],
      "id": "b8gd2BbSNVCx"
    },
    {
      "cell_type": "code",
      "execution_count": null,
      "metadata": {
        "id": "Gz_jRK0PfgZ4"
      },
      "outputs": [],
      "source": [
        "# best_params = best_model.stages[-1].extractParamMap()\n",
        "# for param, value in best_params.items():\n",
        "#     print(f\"{param.name}: {value}\")"
      ],
      "id": "Gz_jRK0PfgZ4"
    },
    {
      "cell_type": "code",
      "execution_count": null,
      "metadata": {
        "id": "x4fL1aDP2UNO"
      },
      "outputs": [],
      "source": [
        "X_y_train = X_y_train.drop(\"assemblerfeatures\")\n",
        "\n",
        "vectorassembler = VectorAssembler(inputCols=['Month', 'DayofMonth', 'DayOfWeek', 'ArrDel15', 'scaled_Distance', 'scaled_WheelsOff_InMinutes', 'scaled_WheelsOn_InMinutes'],\n",
        "                                  outputCol='assemblerfeatures')\n",
        "\n",
        "rf_regr = RandomForestRegressor(\n",
        "    featuresCol='assemblerfeatures',\n",
        "    labelCol='scaled_DepDelay',\n",
        "    predictionCol='pred_score',\n",
        "    maxDepth=5,\n",
        "    numTrees=20\n",
        ")\n",
        "\n",
        "feature_selector = VectorAssembler(inputCols=['assemblerfeatures'], outputCol='final_features')\n",
        "\n",
        "pipeline_preprocessing = Pipeline(stages=[vectorassembler, feature_selector])\n",
        "pipeline_with_rf = Pipeline(stages=[pipeline_preprocessing, rf_regr])\n",
        "\n",
        "modelrf = pipeline_with_rf.fit(X_y_train)\n",
        "\n",
        "# >>>>> Predictions\n",
        "predictions = modelrf.transform(testData)\n",
        "\n"
      ],
      "id": "x4fL1aDP2UNO"
    },
    {
      "cell_type": "code",
      "execution_count": null,
      "metadata": {
        "colab": {
          "base_uri": "https://localhost:8080/"
        },
        "id": "LD2sdo3QfgXm",
        "outputId": "5c326a52-c738-4981-910a-32a61cec4368"
      },
      "outputs": [
        {
          "output_type": "stream",
          "name": "stdout",
          "text": [
            "Root Mean Squared Error (RMSE) on test data: 0.009556435832912895\n",
            "Coefficient of Determination (R^2) on test data: 0.325254454115652\n",
            "Mean Squared Error (MSE) on test data: 9.132546582858157e-05\n"
          ]
        }
      ],
      "source": [
        "# >>>>> ERROR EVALUTATION\n",
        "# >>>>> ROOT MEAN SQUARE ERROR\n",
        "evaluator_rmse = RegressionEvaluator(labelCol=\"scaled_DepDelay\", predictionCol=\"pred_score\", metricName=\"rmse\")\n",
        "rmse = evaluator_rmse.evaluate(predictions)\n",
        "print(f\"Root Mean Squared Error (RMSE) on test data: {rmse}\")\n",
        "# >>>>> R^2\n",
        "evaluator_r2 = RegressionEvaluator(labelCol=\"scaled_DepDelay\", predictionCol=\"pred_score\", metricName=\"r2\")\n",
        "r2 = evaluator_r2.evaluate(predictions)\n",
        "print(f\"Coefficient of Determination (R^2) on test data: {r2}\")\n",
        "\n",
        "# >>>>> MEAN SQUARE ERROR\n",
        "evaluator_mse = RegressionEvaluator(labelCol=\"scaled_DepDelay\", predictionCol=\"pred_score\", metricName=\"mse\")\n",
        "mse = evaluator_mse.evaluate(predictions)\n",
        "print(f\"Mean Squared Error (MSE) on test data: {mse}\")"
      ],
      "id": "LD2sdo3QfgXm"
    },
    {
      "cell_type": "markdown",
      "metadata": {
        "id": "ol_4_ZU-zB5N"
      },
      "source": [
        "## FEATURE IMPORTANCE"
      ],
      "id": "ol_4_ZU-zB5N"
    },
    {
      "cell_type": "code",
      "execution_count": null,
      "metadata": {
        "colab": {
          "base_uri": "https://localhost:8080/"
        },
        "id": "-fv3bgFm4NFI",
        "outputId": "84ee7464-5c63-4da9-b856-152af5ab9e91"
      },
      "outputs": [
        {
          "output_type": "stream",
          "name": "stdout",
          "text": [
            "Feature Importances:\n",
            "Feature 0: 0.00211441383693777\n",
            "Feature 1: 0.00028297519865926366\n",
            "Feature 2: 0.00010773385775549106\n",
            "Feature 3: 0.8762535015438004\n",
            "Feature 4: 0.0037482634750324187\n",
            "Feature 5: 0.05068157699217153\n",
            "Feature 6: 0.06681153509564305\n",
            "\n",
            "Feature Importances DataFrame:\n",
            "                  Column_Name  Importance\n",
            "0                       Month    0.002114\n",
            "1                  DayofMonth    0.000283\n",
            "2                   DayOfWeek    0.000108\n",
            "3                    ArrDel15    0.876254\n",
            "4             scaled_Distance    0.003748\n",
            "5  scaled_WheelsOff_InMinutes    0.050682\n",
            "6   scaled_WheelsOn_InMinutes    0.066812\n"
          ]
        }
      ],
      "source": [
        "rf_model = model.stages[-1]\n",
        "feature_importances = rf_model.featureImportances\n",
        "\n",
        "# >>>>> Importances\n",
        "print(\"Feature Importances:\")\n",
        "for i, importance in enumerate(feature_importances.toArray()):\n",
        "    print(f\"Feature {i}: {importance}\")\n",
        "\n",
        "feature_importance_df = pd.DataFrame({\n",
        "    'Column_Name': ['Month', 'DayofMonth', 'DayOfWeek', 'ArrDel15', 'scaled_Distance', 'scaled_WheelsOff_InMinutes', 'scaled_WheelsOn_InMinutes'],\n",
        "    'Importance': feature_importances.toArray()\n",
        "\n",
        "})\n",
        "\n",
        "print(\"\\nFeature Importances DataFrame:\")\n",
        "print(feature_importance_df)\n"
      ],
      "id": "-fv3bgFm4NFI"
    },
    {
      "cell_type": "code",
      "source": [
        "importances = feature_importance_df['Importance']\n",
        "\n",
        "sorted_idx = importances.argsort()[::-1]\n",
        "sorted_features = feature_importance_df['Column_Name'].iloc[sorted_idx]\n",
        "sorted_importances = importances.iloc[sorted_idx]\n",
        "\n",
        "plt.figure(figsize=(7, 6))\n",
        "sns.barplot(x=sorted_importances, y=sorted_features, palette='viridis')\n",
        "plt.xticks(rotation=90, ha='right')  # Aggiungi questa linea per ruotare i nomi delle features\n",
        "plt.title('Random Forest Feature Importances')\n",
        "plt.xlabel('Importance')\n",
        "plt.ylabel('Feature')\n",
        "plt.show()"
      ],
      "metadata": {
        "colab": {
          "base_uri": "https://localhost:8080/",
          "height": 572
        },
        "id": "pO7jT_liy3aH",
        "outputId": "a88ca194-1bea-4bd4-e010-612b306ab0c3"
      },
      "id": "pO7jT_liy3aH",
      "execution_count": null,
      "outputs": [
        {
          "output_type": "display_data",
          "data": {
            "text/plain": [
              "<Figure size 700x600 with 1 Axes>"
            ],
            "image/png": "[encoded data removed]"
          },
          "metadata": {}
        }
      ]
    },
    {
      "cell_type": "markdown",
      "metadata": {
        "id": "eQTgmEz6zmMp"
      },
      "source": [
        "## EVALUATING OVERFITTING: TRAIN ERROR AND TEST AND LEARNING CURVES\n",
        "\n",
        "\n"
      ],
      "id": "eQTgmEz6zmMp"
    },
    {
      "cell_type": "code",
      "execution_count": null,
      "metadata": {
        "colab": {
          "base_uri": "https://localhost:8080/"
        },
        "id": "Puco7ZUGzVNK",
        "outputId": "239691e7-c7bf-43d2-de67-be390c159d9d"
      },
      "outputs": [
        {
          "output_type": "stream",
          "name": "stdout",
          "text": [
            "CPU times: user 3 µs, sys: 1 µs, total: 4 µs\n",
            "Wall time: 7.63 µs\n",
            "Root Mean Squared Error (RMSE) on training data: 0.009480283555361119\n",
            "Root Mean Squared Error (RMSE) on test data: 0.009570733854052023\n",
            "Coefficient of Determination (R^2) on training data: 0.32639317870125206\n",
            "Coefficient of Determination (R^2) on test data: 0.3232338800436738\n"
          ]
        }
      ],
      "source": [
        "%time\n",
        "\n",
        "train_predictions = modelrf.transform(trainingData)\n",
        "test_predictions = modelrf.transform(testData)\n",
        "\n",
        "# >>>>> EVALUATION ON TRAIN\n",
        "evaluator_train = RegressionEvaluator(labelCol=\"scaled_DepDelay\", predictionCol=\"pred_score\", metricName=\"rmse\")\n",
        "rmse_train = evaluator_train.evaluate(train_predictions)\n",
        "\n",
        "# >>>>> EVALUATION ON TEST\n",
        "evaluator_test = RegressionEvaluator(labelCol=\"scaled_DepDelay\", predictionCol=\"pred_score\", metricName=\"rmse\")\n",
        "rmse_test = evaluator_test.evaluate(test_predictions)\n",
        "\n",
        "# >>>>> RMSE PERFORMANCES\n",
        "print(f\"Root Mean Squared Error (RMSE) on training data: {rmse_train}\")\n",
        "print(f\"Root Mean Squared Error (RMSE) on test data: {rmse_test}\")\n",
        "\n",
        "# >>>>> R^2 PERFORMANCES\n",
        "r2_train = evaluator_train.setMetricName(\"r2\").evaluate(train_predictions)\n",
        "r2_test = evaluator_test.setMetricName(\"r2\").evaluate(test_predictions)\n",
        "\n",
        "print(f\"Coefficient of Determination (R^2) on training data: {r2_train}\")\n",
        "print(f\"Coefficient of Determination (R^2) on test data: {r2_test}\")"
      ],
      "id": "Puco7ZUGzVNK"
    },
    {
      "cell_type": "code",
      "execution_count": null,
      "metadata": {
        "id": "yFYpbofdBr5s"
      },
      "outputs": [],
      "source": [
        "# %time\n",
        "# train_sizes = np.linspace(0.1, 1.0, 10)\n",
        "\n",
        "# train_errors = []\n",
        "# test_errors = []\n",
        "\n",
        "# for train_size in train_sizes:\n",
        "#     subset_train = trainingData.sample(False, train_size, seed=42)\n",
        "\n",
        "#     model_rf=rf_regr.fit(subset_train)\n",
        "\n",
        "#     train_predictions = model_rf.transform(subset_train)\n",
        "\n",
        "#     test_predictions = model_rf.transform(testData)\n",
        "\n",
        "#     evaluator = RegressionEvaluator(labelCol=\"scaled_DepDelay\", predictionCol=\"pred_score\", metricName=\"rmse\")\n",
        "#     train_rmse = evaluator.evaluate(train_predictions)\n",
        "#     test_rmse = evaluator.evaluate(test_predictions)\n",
        "\n",
        "#     train_errors.append(train_rmse)\n",
        "#     test_errors.append(test_rmse)\n",
        "\n",
        "# plt.figure(figsize=(10, 6))\n",
        "# plt.plot(train_sizes, train_errors, label=\"Train RMSE\")\n",
        "# plt.plot(train_sizes, test_errors, label=\"Test RMSE\")\n",
        "# plt.title(\"Learning Curve\")\n",
        "# plt.xlabel(\"Training Set Size\")\n",
        "# plt.ylabel(\"Root Mean Squared Error (RMSE)\")\n",
        "# plt.legend()\n",
        "# plt.show()\n"
      ],
      "id": "yFYpbofdBr5s"
    },
    {
      "cell_type": "markdown",
      "metadata": {
        "id": "QKpZU6yYhfIx"
      },
      "source": [
        "# GRADIENT BOOSTING"
      ],
      "id": "QKpZU6yYhfIx"
    },
    {
      "cell_type": "markdown",
      "source": [
        "## PARAMGRIDBUILDER"
      ],
      "metadata": {
        "id": "eJMmwsHJslgh"
      },
      "id": "eJMmwsHJslgh"
    },
    {
      "cell_type": "markdown",
      "metadata": {
        "id": "zuH_DD0bmZ2N"
      },
      "source": [
        "We also implement in this case a process of optimization of the optimal parameters for our Gradient boosting Regressor. The parameters taken into account are maxdepth, maxIter:\n",
        "\n",
        "- maxdepth which controls the depth of the trees, the deeper the greater the computational cost. We try to find a middle way between efficiency and effectiveness;\n",
        "- maxIter controls the maximum number of iterations of the data model;"
      ],
      "id": "zuH_DD0bmZ2N"
    },
    {
      "cell_type": "code",
      "execution_count": null,
      "metadata": {
        "id": "7EqIwaOYhh0r"
      },
      "outputs": [],
      "source": [
        "# %time\n",
        "# X_y_train = X_y_train.drop(\"assemblerfeatures\")\n",
        "\n",
        "# from pyspark.ml.regression import GBTRegressor\n",
        "# GB_regr = GBTRegressor(featuresCol=\"assemblerfeatures\", labelCol=\"scaled_DepDelay\", predictionCol='pred_score')\n",
        "\n",
        "# pipeline_preprocessing = Pipeline(stages=[vectorassembler])\n",
        "# pipeline_with_GB = Pipeline(stages=[pipeline_preprocessing, GB_regr])\n",
        "\n",
        "# # anche in questa istanza, provvediamo a definire la griglia di iperparametri da ottimizzare.\n",
        "# # Per una ragione di limitatezza computazionale, conveniamo nel testarne pochi.\n",
        "# # Per prevenire il fenomeno dell'overfitting implementiamo il tutto attraverso la crossvalidation a 3 stadi\n",
        "# param_grid = ParamGridBuilder() \\\n",
        "#     .addGrid(GB_regr.maxDepth, [7, 10, 15]) \\\n",
        "#     .addGrid(GB_regr.maxIter , [ 20, 40]) \\\n",
        "#     .build()\n",
        "\n",
        "# # Inizializza l'oggetto CrossValidator\n",
        "# cross_validator = CrossValidator(estimator=pipeline_with_GB,\n",
        "#                                  estimatorParamMaps=param_grid,\n",
        "#                                  evaluator=RegressionEvaluator(labelCol=\"scaled_DepDelay\", predictionCol=\"pred_score\", metricName=\"rmse\"),\n",
        "#                                  numFolds=3,\n",
        "#                                  seed=42)\n",
        "\n",
        "# cv_model = cross_validator.fit(X_y_train)\n",
        "# best_model = cv_model.bestModel\n",
        "\n",
        "# # Mostra i parametri ottimi\n",
        "# best_params = best_model.stages[-1].extractParamMap()\n",
        "# for param, value in best_params.items():\n",
        "#     print(f\"{param.name}: {value}\")\n",
        "\n",
        "\n",
        "# pred_GB = best_model.transform(X_y_test)\n",
        "# rmse = evaluator.evaluate(pred_GB)\n",
        "\n",
        "# print(f\"Root Mean Squared Error (RMSE) on test data: {rmse}\")\n"
      ],
      "id": "7EqIwaOYhh0r"
    },
    {
      "cell_type": "code",
      "execution_count": null,
      "metadata": {
        "id": "1y0RPakJBA0-"
      },
      "outputs": [],
      "source": [
        "# best_params = best_model.stages[-1].extractParamMap()\n",
        "# for param, value in best_params.items():\n",
        "#     print(f\"{param.name}: {value}\")"
      ],
      "id": "1y0RPakJBA0-"
    },
    {
      "cell_type": "code",
      "execution_count": null,
      "metadata": {
        "id": "B-dEwige7W3W"
      },
      "outputs": [],
      "source": [],
      "id": "B-dEwige7W3W"
    },
    {
      "cell_type": "code",
      "source": [
        "from pyspark.ml import Pipeline\n",
        "from pyspark.ml.feature import VectorAssembler\n",
        "from pyspark.ml.regression import GBTRegressor\n",
        "\n",
        "vector_assembler = VectorAssembler(inputCols=['Month', 'DayofMonth', 'DayOfWeek', 'ArrDel15', 'scaled_Distance', 'scaled_WheelsOff_InMinutes', 'scaled_WheelsOn_InMinutes'], outputCol='assemblerfeature')\n",
        "\n",
        "preprocessing_pipeline = Pipeline(stages=[vector_assembler])\n",
        "pipeline_model = preprocessing_pipeline.fit(X_y_train)\n",
        "\n",
        "X_y_train_transformed = pipeline_model.transform(X_y_train)\n",
        "X_y_test_transformed = pipeline_model.transform(X_y_test)\n",
        "\n",
        "# >>>>> Model\n",
        "gbt_regr = GBTRegressor(featuresCol=\"assemblerfeature\", labelCol=\"scaled_DepDelay\", predictionCol='pred_score')\n",
        "\n",
        "pipeline_with_gbt = Pipeline(stages=[gbt_regr])\n",
        "model = pipeline_with_gbt.fit(X_y_train_transformed)\n",
        "\n",
        "# >>>>> Predictions\n",
        "pred_GB = model.transform(X_y_test_transformed)\n"
      ],
      "metadata": {
        "id": "fn9LJWV3kaaf"
      },
      "id": "fn9LJWV3kaaf",
      "execution_count": null,
      "outputs": []
    },
    {
      "cell_type": "code",
      "execution_count": null,
      "metadata": {
        "id": "Hy7ZNrURBA5q",
        "colab": {
          "base_uri": "https://localhost:8080/"
        },
        "outputId": "fad7002e-24ce-4054-a94c-c05cdb588481"
      },
      "outputs": [
        {
          "output_type": "stream",
          "name": "stdout",
          "text": [
            "CPU times: user 4 µs, sys: 0 ns, total: 4 µs\n",
            "Wall time: 10 µs\n",
            "Root Mean Squared Error (RMSE) on test data: 0.00951331355376391\n",
            "Coefficient of Determination (R^2) on test data: 0.3313301331443068\n",
            "Mean Squared Error (MSE) on test data: 9.050313477222814e-05\n"
          ]
        }
      ],
      "source": [
        "%time\n",
        "from pyspark.ml.evaluation import RegressionEvaluator\n",
        "\n",
        "# >>>>> RMSE\n",
        "evaluator_rmse = RegressionEvaluator(labelCol=\"scaled_DepDelay\", predictionCol=\"pred_score\", metricName=\"rmse\")\n",
        "rmse = evaluator_rmse.evaluate(pred_GB)\n",
        "print(f\"Root Mean Squared Error (RMSE) on test data: {rmse}\")\n",
        "\n",
        "# >>>>> R^2\n",
        "evaluator_r2 = RegressionEvaluator(labelCol=\"scaled_DepDelay\", predictionCol=\"pred_score\", metricName=\"r2\")\n",
        "r2 = evaluator_r2.evaluate(pred_GB)\n",
        "print(f\"Coefficient of Determination (R^2) on test data: {r2}\")\n",
        "\n",
        "# >>>>> MSE\n",
        "evaluator_mse = RegressionEvaluator(labelCol=\"scaled_DepDelay\", predictionCol=\"pred_score\", metricName=\"mse\")\n",
        "mse = evaluator_mse.evaluate(pred_GB)\n",
        "print(f\"Mean Squared Error (MSE) on test data: {mse}\")"
      ],
      "id": "Hy7ZNrURBA5q"
    },
    {
      "cell_type": "code",
      "execution_count": null,
      "metadata": {
        "colab": {
          "base_uri": "https://localhost:8080/"
        },
        "id": "sqcbtO0T_e6v",
        "outputId": "34976d28-5009-41ad-e9f8-acd4bc7ec587"
      },
      "outputs": [
        {
          "output_type": "stream",
          "name": "stdout",
          "text": [
            "Feature Importances:\n",
            "Feature 0: 0.028333509266917647\n",
            "Feature 1: 0.025243605310752124\n",
            "Feature 2: 0.006772644902236212\n",
            "Feature 3: 0.7827097916602451\n",
            "Feature 4: 0.02525513998927507\n",
            "Feature 5: 0.06561575288524522\n",
            "Feature 6: 0.06606955598532858\n",
            "\n",
            "Feature Importances DataFrame:\n",
            "                  Column_Name  Importance\n",
            "0                       Month    0.028334\n",
            "1                  DayofMonth    0.025244\n",
            "2                   DayOfWeek    0.006773\n",
            "3                    ArrDel15    0.782710\n",
            "4             scaled_Distance    0.025255\n",
            "5  scaled_WheelsOff_InMinutes    0.065616\n",
            "6   scaled_WheelsOn_InMinutes    0.066070\n"
          ]
        }
      ],
      "source": [
        "import pandas as pd\n",
        "\n",
        "gbt_regr = model.stages[-1]\n",
        "feature_importancesrf = gbt_regr.featureImportances\n",
        "\n",
        "# >>>>> Importances\n",
        "print(\"Feature Importances:\")\n",
        "for i, importance in enumerate(feature_importancesrf.toArray()):\n",
        "    print(f\"Feature {i}: {importance}\")\n",
        "\n",
        "feature_importance_dfrf = pd.DataFrame({\n",
        "    'Column_Name': ['Month', 'DayofMonth', 'DayOfWeek', 'ArrDel15', 'scaled_Distance', 'scaled_WheelsOff_InMinutes', 'scaled_WheelsOn_InMinutes'],\n",
        "    'Importance': feature_importancesrf.toArray(),\n",
        "\n",
        "})\n",
        "\n",
        "print(\"\\nFeature Importances DataFrame:\")\n",
        "print(feature_importance_dfrf)"
      ],
      "id": "sqcbtO0T_e6v"
    },
    {
      "cell_type": "code",
      "source": [
        "importances = feature_importance_dfrf['Importance']\n",
        "sorted_idx = importances.argsort()[::-1]\n",
        "sorted_features = feature_importance_dfrf['Column_Name'].iloc[sorted_idx]\n",
        "sorted_importances = importances.iloc[sorted_idx]\n",
        "\n",
        "plt.figure(figsize=(7, 6))\n",
        "sns.barplot(x=sorted_importances, y=sorted_features, palette='viridis')\n",
        "plt.xticks(rotation=90, ha='right')  # Aggiungi questa linea per ruotare i nomi delle features\n",
        "plt.title('Gradient Boosting Feature Importances')\n",
        "plt.xlabel('Importance')\n",
        "plt.ylabel('Feature')\n",
        "plt.show()"
      ],
      "metadata": {
        "colab": {
          "base_uri": "https://localhost:8080/",
          "height": 572
        },
        "id": "ttXy60070eI2",
        "outputId": "8a97dec1-1eeb-4c01-93da-0aadea09e413"
      },
      "id": "ttXy60070eI2",
      "execution_count": null,
      "outputs": [
        {
          "output_type": "display_data",
          "data": {
            "text/plain": [
              "<Figure size 700x600 with 1 Axes>"
            ],
            "image/png": "[encoded data removed]"
          },
          "metadata": {}
        }
      ]
    },
    {
      "cell_type": "code",
      "execution_count": null,
      "metadata": {
        "colab": {
          "base_uri": "https://localhost:8080/"
        },
        "id": "Oq0TYd69_S6m",
        "outputId": "f60c46de-ae2f-4535-8ee7-2ff2aaafdf52"
      },
      "outputs": [
        {
          "output_type": "stream",
          "name": "stdout",
          "text": [
            "Tree 0: DecisionTreeRegressionModel: uid=dtr_2b16da04a6a8, depth=5, numNodes=63, numFeatures=7\n",
            "Tree 1: DecisionTreeRegressionModel: uid=dtr_2ad804f274bb, depth=5, numNodes=63, numFeatures=7\n",
            "Tree 2: DecisionTreeRegressionModel: uid=dtr_044fa203c0a2, depth=5, numNodes=63, numFeatures=7\n",
            "Tree 3: DecisionTreeRegressionModel: uid=dtr_db92e1e1c487, depth=5, numNodes=63, numFeatures=7\n",
            "Tree 4: DecisionTreeRegressionModel: uid=dtr_1b1b2e0871c1, depth=5, numNodes=63, numFeatures=7\n",
            "Tree 5: DecisionTreeRegressionModel: uid=dtr_150c76c9c496, depth=5, numNodes=63, numFeatures=7\n",
            "Tree 6: DecisionTreeRegressionModel: uid=dtr_0b99d8f848da, depth=5, numNodes=61, numFeatures=7\n",
            "Tree 7: DecisionTreeRegressionModel: uid=dtr_6265cb800fa9, depth=5, numNodes=63, numFeatures=7\n",
            "Tree 8: DecisionTreeRegressionModel: uid=dtr_9ee10f8e20ef, depth=5, numNodes=63, numFeatures=7\n",
            "Tree 9: DecisionTreeRegressionModel: uid=dtr_209e496e1906, depth=5, numNodes=63, numFeatures=7\n",
            "Tree 10: DecisionTreeRegressionModel: uid=dtr_e4e423d5d1dc, depth=5, numNodes=63, numFeatures=7\n",
            "Tree 11: DecisionTreeRegressionModel: uid=dtr_b05944a9a1bd, depth=5, numNodes=63, numFeatures=7\n",
            "Tree 12: DecisionTreeRegressionModel: uid=dtr_8e9640a40cc1, depth=5, numNodes=63, numFeatures=7\n",
            "Tree 13: DecisionTreeRegressionModel: uid=dtr_1647f49cd825, depth=5, numNodes=63, numFeatures=7\n",
            "Tree 14: DecisionTreeRegressionModel: uid=dtr_813797107269, depth=5, numNodes=63, numFeatures=7\n",
            "Tree 15: DecisionTreeRegressionModel: uid=dtr_e1c78e0410bd, depth=5, numNodes=63, numFeatures=7\n",
            "Tree 16: DecisionTreeRegressionModel: uid=dtr_f1e727bac084, depth=5, numNodes=63, numFeatures=7\n",
            "Tree 17: DecisionTreeRegressionModel: uid=dtr_528db5982185, depth=5, numNodes=63, numFeatures=7\n",
            "Tree 18: DecisionTreeRegressionModel: uid=dtr_53a55f740ab6, depth=5, numNodes=63, numFeatures=7\n",
            "Tree 19: DecisionTreeRegressionModel: uid=dtr_a301fb856ef9, depth=5, numNodes=63, numFeatures=7\n"
          ]
        }
      ],
      "source": [
        "gbt_model = model.stages[-1]\n",
        "trees = gbt_model.trees\n",
        "\n",
        "# Mostra informazioni sugli alberi decisionali\n",
        "for i, tree in enumerate(trees):\n",
        "    print(\"Tree {}: {}\".format(i, tree))\n"
      ],
      "id": "Oq0TYd69_S6m"
    },
    {
      "cell_type": "markdown",
      "metadata": {
        "id": "YugCipeu5aOa"
      },
      "source": [
        "## EVALUATING OVERFITTING: TRAIN ERROR AND TEST AND LEARNING CURVES"
      ],
      "id": "YugCipeu5aOa"
    },
    {
      "cell_type": "code",
      "execution_count": null,
      "metadata": {
        "id": "auz47JY05WQf"
      },
      "outputs": [],
      "source": [
        "# Lista delle colonne di interesse\n",
        "feature_cols = [col for col in features if col != \"scaled_DepDelay\"]\n",
        "\n",
        "# Creazione di un VectorAssembler\n",
        "vector_assembler = VectorAssembler(inputCols=feature_cols, outputCol='assemblerfeatures')\n",
        "\n",
        "# Creazione del modello di regressione lineare\n",
        "gb_model = GBTRegressor(labelCol=\"scaled_DepDelay\", featuresCol=\"assemblerfeatures\", predictionCol=\"prediction\")\n",
        "\n",
        "# Creazione di un pipeline\n",
        "pipeline = Pipeline(stages=[vector_assembler, gb_model])\n",
        "\n",
        "# Addestramento del modello\n",
        "modelgb = pipeline.fit(X_y_train)\n",
        "\n",
        "\n",
        "train_predictions = modelgb.transform(trainingData)\n",
        "\n",
        "test_predictions = modelgb.transform(testData)\n",
        "\n",
        "\n",
        "evaluator_train = RegressionEvaluator(labelCol=\"scaled_DepDelay\", predictionCol=\"prediction\", metricName=\"rmse\")\n",
        "rmse_train = evaluator_train.evaluate(train_predictions)\n",
        "\n",
        "evaluator_test = RegressionEvaluator(labelCol=\"scaled_DepDelay\", predictionCol=\"prediction\", metricName=\"rmse\")\n",
        "rmse_test = evaluator_test.evaluate(test_predictions)\n",
        "\n",
        "# RMSE Performances\n",
        "print(f\"Root Mean Squared Error (RMSE) on training data: {rmse_train}\")\n",
        "print(f\"Root Mean Squared Error (RMSE) on test data: {rmse_test}\")\n",
        "\n",
        "# R^2 Performances\n",
        "r2_train = evaluator_train.setMetricName(\"r2\").evaluate(train_predictions)\n",
        "r2_test = evaluator_test.setMetricName(\"r2\").evaluate(test_predictions)\n",
        "\n",
        "print(f\"Coefficient of Determination (R^2) on training data: {r2_train}\")\n",
        "print(f\"Coefficient of Determination (R^2) on test data: {r2_test}\")\n"
      ],
      "id": "auz47JY05WQf"
    },
    {
      "cell_type": "code",
      "execution_count": null,
      "metadata": {
        "id": "Yqi29rQbBlZ9"
      },
      "outputs": [],
      "source": [
        "# %time\n",
        "\n",
        "# train_sizes = np.linspace(0.1, 1.0, 10)\n",
        "\n",
        "# train_errors = []\n",
        "# test_errors = []\n",
        "\n",
        "# for train_size in train_sizes:\n",
        "#     # Seleziona una frazione del set di addestramento\n",
        "#     subset_train = trainingData.sample(False, train_size, seed=42)\n",
        "\n",
        "#     model_GB=GB_regr.fit(subset_train)\n",
        "\n",
        "#     train_predictions = model_GB.transform(subset_train)\n",
        "\n",
        "#     test_predictions = model_GB.transform(testData)\n",
        "\n",
        "#     evaluator = RegressionEvaluator(labelCol=\"scaled_DepDelay\", predictionCol=\"pred_score\", metricName=\"rmse\")\n",
        "#     train_rmse = evaluator.evaluate(train_predictions)\n",
        "#     test_rmse = evaluator.evaluate(test_predictions)\n",
        "\n",
        "#     train_errors.append(train_rmse)\n",
        "#     test_errors.append(test_rmse)\n",
        "\n",
        "# plt.figure(figsize=(10, 6))\n",
        "# plt.plot(train_sizes, train_errors, label=\"Train RMSE\")\n",
        "# plt.plot(train_sizes, test_errors, label=\"Test RMSE\")\n",
        "# plt.title(\"Learning Curve\")\n",
        "# plt.xlabel(\"Training Set Size\")\n",
        "# plt.ylabel(\"Root Mean Squared Error (RMSE)\")\n",
        "# plt.legend()\n",
        "# plt.show()"
      ],
      "id": "Yqi29rQbBlZ9"
    },
    {
      "cell_type": "code",
      "execution_count": null,
      "metadata": {
        "id": "90OIdCF-M93X"
      },
      "outputs": [],
      "source": [],
      "id": "90OIdCF-M93X"
    }
  ],
  "metadata": {
    "colab": {
      "provenance": []
    },
    "kernelspec": {
      "display_name": "Python 3 (ipykernel)",
      "language": "python",
      "name": "python3"
    },
    "language_info": {
      "codemirror_mode": {
        "name": "ipython",
        "version": 3
      },
      "file_extension": ".py",
      "mimetype": "text/x-python",
      "name": "python",
      "nbconvert_exporter": "python",
      "pygments_lexer": "ipython3",
      "version": "3.9.16"
    }
  },
  "nbformat": 4,
  "nbformat_minor": 5
}